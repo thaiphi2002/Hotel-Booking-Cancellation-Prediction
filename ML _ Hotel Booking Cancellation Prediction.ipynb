{
 "cells": [
  {
   "cell_type": "markdown",
   "metadata": {},
   "source": [
    "import thư viện"
   ]
  },
  {
   "cell_type": "code",
   "execution_count": 2,
   "metadata": {},
   "outputs": [],
   "source": [
    "import numpy as np\n",
    "import pandas as pd\n",
    "import tensorflow as tf\n",
    "from sklearn.model_selection import train_test_split\n",
    "from sklearn.preprocessing import StandardScaler"
   ]
  },
  {
   "cell_type": "markdown",
   "metadata": {},
   "source": [
    "đọc data"
   ]
  },
  {
   "cell_type": "code",
   "execution_count": 5,
   "metadata": {},
   "outputs": [],
   "source": [
    "# Đọc dữ liệu\n",
    "df = pd.read_csv(\"Python_Project_09_Random_Forest_Classification_Prospect_Hotel_Bo.csv\")"
   ]
  },
  {
   "cell_type": "markdown",
   "metadata": {},
   "source": [
    "# xử lý data"
   ]
  },
  {
   "cell_type": "code",
   "execution_count": 6,
   "metadata": {},
   "outputs": [],
   "source": [
    "df = df.drop(columns='hotel') #loại bỏ cột hotel\n",
    "df = df.drop(columns='reservation_status')\n",
    "df = df.drop(columns='reservation_status_date')\n",
    "# Điền giá trị NaN bằng 0 trong DataFrame\n",
    "df.fillna(0, inplace=True)"
   ]
  },
  {
   "cell_type": "code",
   "execution_count": 7,
   "metadata": {},
   "outputs": [],
   "source": [
    "# hàm xử lý customer_type\n",
    "def convert_customer_type(value):\n",
    "    mapping = {\n",
    "        'Transient': 2,\n",
    "        'Contract': 0,\n",
    "        'Transient-Party': 3,\n",
    "        'Group': 1,\n",
    "    }\n",
    "    return mapping.get(value, -1)  # Trả về -1 nếu giá trị không tồn tại trong từ điển"
   ]
  },
  {
   "cell_type": "code",
   "execution_count": 8,
   "metadata": {},
   "outputs": [],
   "source": [
    "# hàm xử lý deposit_type\n",
    "def convert_deposit_type(value):\n",
    "    mapping = {\n",
    "        'No Deposit': 0,\n",
    "        'Refundable': 2,\n",
    "        'Non Refund': 1,\n",
    "    }\n",
    "    return mapping.get(value, -1)  # Trả về -1 nếu giá trị không tồn tại trong từ điển"
   ]
  },
  {
   "cell_type": "code",
   "execution_count": 9,
   "metadata": {},
   "outputs": [
    {
     "name": "stdout",
     "output_type": "stream",
     "text": [
      "{'C': 2, 'A': 0, 'D': 3, 'E': 4, 'G': 6, 'F': 5, 'H': 8, 'L': 1, 'P': 7, 'B': 11}\n"
     ]
    }
   ],
   "source": [
    "# assigned_room_type\n",
    "assigned_room_type_data = ['C', 'A', 'D', 'E', 'G', 'F', 'H', 'L', 'P', 'B']\n",
    "code_assigned_room_type = [2,  0,  3,  4,  6,  5,  8,  1,  7, 11, 10,  9]\n",
    "# Tạo một từ điển để ánh xạ\n",
    "assigned_room_type_map = dict(zip(assigned_room_type_data, code_assigned_room_type))\n",
    "\n",
    "# In ra từ điển ánh xạ\n",
    "print(assigned_room_type_map)"
   ]
  },
  {
   "cell_type": "code",
   "execution_count": 10,
   "metadata": {},
   "outputs": [
    {
     "name": "stdout",
     "output_type": "stream",
     "text": [
      "{'Direct': 1, 'Corporate': 0, 'TA/TO': 3, 'Undefined': 4, 'GDS': 2}\n"
     ]
    }
   ],
   "source": [
    "distribution_channel_data = ['Direct', 'Corporate', 'TA/TO', 'Undefined', 'GDS']\n",
    "code_distribution_channel = [1, 0, 3, 4, 2]\n",
    "# Tạo một từ điển để ánh xạ\n",
    "distribution_channel_map = dict(zip(distribution_channel_data, code_distribution_channel))\n",
    "\n",
    "# In ra từ điển ánh xạ\n",
    "print(distribution_channel_map)"
   ]
  },
  {
   "cell_type": "code",
   "execution_count": 11,
   "metadata": {},
   "outputs": [
    {
     "name": "stdout",
     "output_type": "stream",
     "text": [
      "{'C': 1, 'A': 0, 'D': 3, 'E': 4, 'G': 2}\n"
     ]
    }
   ],
   "source": [
    "reserved_room_type_data = ['C', 'A', 'D', 'E', 'G', 'F', 'H', 'L', 'P', 'B']\n",
    "code_reserved_room_type = [2, 0, 3, 4, 6, 5, 7, 8, 9, 1]\n",
    "# Tạo một từ điển để ánh xạ\n",
    "reserved_room_type_map = dict(zip(reserved_room_type_data, code_distribution_channel))\n",
    "\n",
    "# In ra từ điển ánh xạ\n",
    "print(reserved_room_type_map)"
   ]
  },
  {
   "cell_type": "code",
   "execution_count": 12,
   "metadata": {},
   "outputs": [
    {
     "name": "stdout",
     "output_type": "stream",
     "text": [
      "{'Direct': 3, 'Corporate': 2, 'Online TA': 6, 'Offline TA/TO': 5, 'Complementary': 1, 'Groups': 4, 'Undefined': 7, 'Aviation': 0}\n"
     ]
    }
   ],
   "source": [
    "market_segment_data = ['Direct', 'Corporate', 'Online TA', 'Offline TA/TO', 'Complementary', 'Groups', 'Undefined', 'Aviation']\n",
    "code_market_segment = [3, 2, 6, 5, 1, 4, 7, 0]\n",
    "# Tạo một từ điển để ánh xạ\n",
    "market_segment_map = dict(zip(market_segment_data, code_market_segment))\n",
    "\n",
    "# In ra từ điển ánh xạ\n",
    "print(market_segment_map)"
   ]
  },
  {
   "cell_type": "code",
   "execution_count": 13,
   "metadata": {},
   "outputs": [
    {
     "name": "stdout",
     "output_type": "stream",
     "text": [
      "{'PRT': 135, 'GBR': 59, 'USA': 169, 'ESP': 51, 'IRL': 76, 'FRA': 56, None: 177, 'ROU': 139, 'NOR': 124, 'OMN': 127, 'ARG': 6, 'POL': 133, 'DEU': 43, 'BEL': 15, 'CHE': 29, 'CN': 34, 'GRC': 66, 'ITA': 81, 'NLD': 123, 'DNK': 46, 'RUS': 140, 'SWE': 154, 'AUS': 11, 'EST': 52, 'CZE': 42, 'BRA': 25, 'FIN': 54, 'MOZ': 113, 'BWA': 27, 'LUX': 100, 'SVN': 153, 'ALB': 3, 'IND': 75, 'CHN': 31, 'MEX': 107, 'MAR': 103, 'UKR': 166, 'SMR': 148, 'LVA': 101, 'PRI': 134, 'SRB': 149, 'CHL': 30, 'AUT': 12, 'BLR': 23, 'LTU': 99, 'TUR': 162, 'ZAF': 174, 'AGO': 1, 'ISR': 80, 'CYM': 40, 'ZMB': 175, 'CPV': 37, 'ZWE': 176, 'DZA': 48, 'KOR': 91, 'CRI': 38, 'HUN': 72, 'ARE': 5, 'TUN': 161, 'JAM': 82, 'HRV': 71, 'HKG': 69, 'IRN': 77, 'GEO': 60, 'AND': 4, 'GIB': 63, 'URY': 168, 'JEY': 83, 'CAF': 28, 'CYP': 41, 'COL': 35, 'GGY': 61, 'KWT': 92, 'NGA': 121, 'MDV': 106, 'VEN': 171, 'SVK': 152, 'FJI': 55, 'KAZ': 86, 'PAK': 128, 'IDN': 73, 'LBN': 94, 'PHL': 131, 'SEN': 144, 'SYC': 155, 'AZE': 13, 'BHR': 20, 'NZL': 126, 'THA': 158, 'DOM': 47, 'MKD': 108, 'MYS': 117, 'ARM': 7, 'JPN': 85, 'LKA': 98, 'CUB': 39, 'CMR': 33, 'BIH': 22, 'MUS': 115, 'COM': 36, 'SUR': 151, 'UGA': 165, 'BGR': 19, 'CIV': 32, 'JOR': 84, 'SYR': 156, 'SGP': 145, 'BDI': 14, 'SAU': 142, 'VNM': 173, 'PLW': 132, 'QAT': 138, 'EGY': 50, 'PER': 130, 'MLT': 110, 'MWI': 116, 'ECU': 49, 'MDG': 105, 'ISL': 79, 'UZB': 170, 'NPL': 125, 'BHS': 21, 'MAC': 102, 'TGO': 157, 'TWN': 163, 'DJI': 44, 'STP': 150, 'KNA': 90, 'ETH': 53, 'IRQ': 78, 'HND': 70, 'RWA': 141, 'KHM': 88, 'MCO': 104, 'BGD': 18, 'IMN': 74, 'TJK': 159, 'NIC': 122, 'BEN': 16, 'VGB': 172, 'TZA': 164, 'GAB': 58, 'GHA': 62, 'TMP': 160, 'GLP': 64, 'KEN': 87, 'LIE': 97, 'GNB': 65, 'MNE': 112, 'UMI': 167, 'MYT': 118, 'FRO': 57, 'MMR': 111, 'PAN': 129, 'BFA': 17, 'LBY': 95, 'MLI': 109, 'NAM': 119, 'BOL': 24, 'PRY': 136, 'BRB': 26, 'ABW': 0, 'AIA': 2, 'SLV': 147, 'DMA': 45, 'PYF': 137, 'GUY': 68, 'LCA': 96, 'ATA': 9, 'GTM': 67, 'ASM': 8, 'MRT': 114, 'NCL': 120, 'KIR': 89, 'SDN': 143, 'ATF': 10, 'SLE': 146, 'LAO': 93}\n"
     ]
    }
   ],
   "source": [
    "# Các ma trận cần ánh xạ\n",
    "countries = ['PRT', 'GBR', 'USA', 'ESP', 'IRL', 'FRA', None, 'ROU', 'NOR', 'OMN', 'ARG', 'POL', 'DEU', 'BEL', 'CHE', 'CN', 'GRC', 'ITA', 'NLD', 'DNK', 'RUS', 'SWE', 'AUS', 'EST', 'CZE', 'BRA', 'FIN', 'MOZ', 'BWA', 'LUX', 'SVN', 'ALB', 'IND', 'CHN', 'MEX', 'MAR', 'UKR', 'SMR', 'LVA', 'PRI', 'SRB', 'CHL', 'AUT', 'BLR', 'LTU', 'TUR', 'ZAF', 'AGO', 'ISR', 'CYM', 'ZMB', 'CPV', 'ZWE', 'DZA', 'KOR', 'CRI', 'HUN', 'ARE', 'TUN', 'JAM', 'HRV', 'HKG', 'IRN', 'GEO', 'AND', 'GIB', 'URY', 'JEY', 'CAF', 'CYP', 'COL', 'GGY', 'KWT', 'NGA', 'MDV', 'VEN', 'SVK', 'FJI', 'KAZ', 'PAK', 'IDN', 'LBN', 'PHL', 'SEN', 'SYC', 'AZE', 'BHR', 'NZL', 'THA', 'DOM', 'MKD', 'MYS', 'ARM', 'JPN', 'LKA', 'CUB', 'CMR', 'BIH', 'MUS', 'COM', 'SUR', 'UGA', 'BGR', 'CIV', 'JOR', 'SYR', 'SGP', 'BDI', 'SAU', 'VNM', 'PLW', 'QAT', 'EGY', 'PER', 'MLT', 'MWI', 'ECU', 'MDG', 'ISL', 'UZB', 'NPL', 'BHS', 'MAC', 'TGO', 'TWN', 'DJI', 'STP', 'KNA', 'ETH', 'IRQ', 'HND', 'RWA', 'KHM', 'MCO', 'BGD', 'IMN', 'TJK', 'NIC', 'BEN', 'VGB', 'TZA', 'GAB', 'GHA', 'TMP', 'GLP', 'KEN', 'LIE', 'GNB', 'MNE', 'UMI', 'MYT', 'FRO', 'MMR', 'PAN', 'BFA', 'LBY', 'MLI', 'NAM', 'BOL', 'PRY', 'BRB', 'ABW', 'AIA', 'SLV', 'DMA', 'PYF', 'GUY', 'LCA', 'ATA', 'GTM', 'ASM', 'MRT', 'NCL', 'KIR', 'SDN', 'ATF', 'SLE', 'LAO']\n",
    "codes = [135, 59, 169, 51, 76, 56, 177, 139, 124, 127, 6, 133, 43, 15, 29, 34, 66, 81, 123, 46, 140, 154, 11, 52, 42, 25, 54, 113, 27, 100, 153, 3, 75, 31, 107, 103, 166, 148, 101, 134, 149, 30, 12, 23, 99, 162, 174, 1, 80, 40, 175, 37, 176, 48, 91, 38, 72, 5, 161, 82, 71, 69, 77, 60, 4, 63, 168, 83, 28, 41, 35, 61, 92, 121, 106, 171, 152, 55, 86, 128, 73, 94, 131, 144, 155, 13, 20, 126, 158, 47, 108, 117, 7, 85, 98, 39, 33, 22, 115, 36, 151, 165, 19, 32, 84, 156, 145, 14, 142, 173, 132, 138, 50, 130, 110, 116, 49, 105, 79, 170, 125, 21, 102, 157, 163, 44, 150, 90, 53, 78, 70, 141, 88, 104, 18, 74, 159, 122, 16, 172, 164, 58, 62, 160, 64, 87, 97, 65, 112, 167, 118, 57, 111, 129, 17, 95, 109, 119, 24, 136, 26, 0, 2, 147, 45, 137, 68, 96, 9, 67, 8, 114, 120, 89, 143, 10, 146, 93]\n",
    "\n",
    "# Tạo một từ điển để ánh xạ từng quốc gia với mã\n",
    "country_map = dict(zip(countries, codes))\n",
    "\n",
    "# In ra từ điển ánh xạ\n",
    "print(country_map)\n"
   ]
  },
  {
   "cell_type": "code",
   "execution_count": 14,
   "metadata": {},
   "outputs": [],
   "source": [
    "# hàm xử lý meal\n",
    "def convert_meal(value):\n",
    "    mapping = {\n",
    "        'BB': 0,\n",
    "        'FB': 1,\n",
    "        'HB': 2,\n",
    "        'SC': 3,\n",
    "        'Undefined': 4\n",
    "    }\n",
    "    return mapping.get(value, -1)  # Trả về -1 nếu giá trị không tồn tại trong từ điển"
   ]
  },
  {
   "cell_type": "code",
   "execution_count": 15,
   "metadata": {},
   "outputs": [],
   "source": [
    "# hàm xử lý arrival_date_month\n",
    "def convert_arrival_date_month(value):\n",
    "    month_mapping = {\n",
    "        'January': 1,\n",
    "        'February': 2,\n",
    "        'March': 3,\n",
    "        'April': 4,\n",
    "        'May': 5,\n",
    "        'June': 6,\n",
    "        'July': 7,\n",
    "        'August': 8,\n",
    "        'September': 9,\n",
    "        'October': 10,\n",
    "        'November': 11,\n",
    "        'December': 12\n",
    "    }\n",
    "    return month_mapping.get(value, -1)"
   ]
  },
  {
   "cell_type": "code",
   "execution_count": 16,
   "metadata": {},
   "outputs": [],
   "source": [
    "df['arrival_date_month'] = df['arrival_date_month'].apply(convert_arrival_date_month)\n",
    "df['meal'] = df['meal'].apply(convert_meal)\n",
    "df['country'] = df['country'].map(country_map)\n",
    "df['market_segment'] = df['market_segment'].map(market_segment_map)\n",
    "df['distribution_channel'] = df['distribution_channel'].map(distribution_channel_map)\n",
    "df['reserved_room_type'] = df['reserved_room_type'].map(reserved_room_type_map)\n",
    "df['assigned_room_type'] = df['assigned_room_type'].map(assigned_room_type_map)\n",
    "df['deposit_type'] = df['deposit_type'].apply(convert_deposit_type)\n",
    "df['customer_type'] = df['customer_type'].apply(convert_customer_type)\n"
   ]
  },
  {
   "cell_type": "code",
   "execution_count": 17,
   "metadata": {},
   "outputs": [
    {
     "data": {
      "text/html": [
       "<div>\n",
       "<style scoped>\n",
       "    .dataframe tbody tr th:only-of-type {\n",
       "        vertical-align: middle;\n",
       "    }\n",
       "\n",
       "    .dataframe tbody tr th {\n",
       "        vertical-align: top;\n",
       "    }\n",
       "\n",
       "    .dataframe thead th {\n",
       "        text-align: right;\n",
       "    }\n",
       "</style>\n",
       "<table border=\"1\" class=\"dataframe\">\n",
       "  <thead>\n",
       "    <tr style=\"text-align: right;\">\n",
       "      <th></th>\n",
       "      <th>is_canceled</th>\n",
       "      <th>lead_time</th>\n",
       "      <th>arrival_date_year</th>\n",
       "      <th>arrival_date_month</th>\n",
       "      <th>arrival_date_week_number</th>\n",
       "      <th>arrival_date_day_of_month</th>\n",
       "      <th>stays_in_weekend_nights</th>\n",
       "      <th>stays_in_week_nights</th>\n",
       "      <th>adults</th>\n",
       "      <th>children</th>\n",
       "      <th>...</th>\n",
       "      <th>assigned_room_type</th>\n",
       "      <th>booking_changes</th>\n",
       "      <th>deposit_type</th>\n",
       "      <th>agent</th>\n",
       "      <th>company</th>\n",
       "      <th>days_in_waiting_list</th>\n",
       "      <th>customer_type</th>\n",
       "      <th>adr</th>\n",
       "      <th>required_car_parking_spaces</th>\n",
       "      <th>total_of_special_requests</th>\n",
       "    </tr>\n",
       "  </thead>\n",
       "  <tbody>\n",
       "    <tr>\n",
       "      <th>0</th>\n",
       "      <td>0</td>\n",
       "      <td>342</td>\n",
       "      <td>2015</td>\n",
       "      <td>7</td>\n",
       "      <td>27</td>\n",
       "      <td>1</td>\n",
       "      <td>0</td>\n",
       "      <td>0</td>\n",
       "      <td>2</td>\n",
       "      <td>0.0</td>\n",
       "      <td>...</td>\n",
       "      <td>2.0</td>\n",
       "      <td>3</td>\n",
       "      <td>0</td>\n",
       "      <td>0.0</td>\n",
       "      <td>0.0</td>\n",
       "      <td>0</td>\n",
       "      <td>2</td>\n",
       "      <td>0.0</td>\n",
       "      <td>0</td>\n",
       "      <td>0</td>\n",
       "    </tr>\n",
       "    <tr>\n",
       "      <th>1</th>\n",
       "      <td>0</td>\n",
       "      <td>737</td>\n",
       "      <td>2015</td>\n",
       "      <td>7</td>\n",
       "      <td>27</td>\n",
       "      <td>1</td>\n",
       "      <td>0</td>\n",
       "      <td>0</td>\n",
       "      <td>2</td>\n",
       "      <td>0.0</td>\n",
       "      <td>...</td>\n",
       "      <td>2.0</td>\n",
       "      <td>4</td>\n",
       "      <td>0</td>\n",
       "      <td>0.0</td>\n",
       "      <td>0.0</td>\n",
       "      <td>0</td>\n",
       "      <td>2</td>\n",
       "      <td>0.0</td>\n",
       "      <td>0</td>\n",
       "      <td>0</td>\n",
       "    </tr>\n",
       "    <tr>\n",
       "      <th>2</th>\n",
       "      <td>0</td>\n",
       "      <td>7</td>\n",
       "      <td>2015</td>\n",
       "      <td>7</td>\n",
       "      <td>27</td>\n",
       "      <td>1</td>\n",
       "      <td>0</td>\n",
       "      <td>1</td>\n",
       "      <td>1</td>\n",
       "      <td>0.0</td>\n",
       "      <td>...</td>\n",
       "      <td>2.0</td>\n",
       "      <td>0</td>\n",
       "      <td>0</td>\n",
       "      <td>0.0</td>\n",
       "      <td>0.0</td>\n",
       "      <td>0</td>\n",
       "      <td>2</td>\n",
       "      <td>75.0</td>\n",
       "      <td>0</td>\n",
       "      <td>0</td>\n",
       "    </tr>\n",
       "    <tr>\n",
       "      <th>3</th>\n",
       "      <td>0</td>\n",
       "      <td>13</td>\n",
       "      <td>2015</td>\n",
       "      <td>7</td>\n",
       "      <td>27</td>\n",
       "      <td>1</td>\n",
       "      <td>0</td>\n",
       "      <td>1</td>\n",
       "      <td>1</td>\n",
       "      <td>0.0</td>\n",
       "      <td>...</td>\n",
       "      <td>0.0</td>\n",
       "      <td>0</td>\n",
       "      <td>0</td>\n",
       "      <td>304.0</td>\n",
       "      <td>0.0</td>\n",
       "      <td>0</td>\n",
       "      <td>2</td>\n",
       "      <td>75.0</td>\n",
       "      <td>0</td>\n",
       "      <td>0</td>\n",
       "    </tr>\n",
       "    <tr>\n",
       "      <th>4</th>\n",
       "      <td>0</td>\n",
       "      <td>14</td>\n",
       "      <td>2015</td>\n",
       "      <td>7</td>\n",
       "      <td>27</td>\n",
       "      <td>1</td>\n",
       "      <td>0</td>\n",
       "      <td>2</td>\n",
       "      <td>2</td>\n",
       "      <td>0.0</td>\n",
       "      <td>...</td>\n",
       "      <td>0.0</td>\n",
       "      <td>0</td>\n",
       "      <td>0</td>\n",
       "      <td>240.0</td>\n",
       "      <td>0.0</td>\n",
       "      <td>0</td>\n",
       "      <td>2</td>\n",
       "      <td>98.0</td>\n",
       "      <td>0</td>\n",
       "      <td>1</td>\n",
       "    </tr>\n",
       "  </tbody>\n",
       "</table>\n",
       "<p>5 rows × 29 columns</p>\n",
       "</div>"
      ],
      "text/plain": [
       "   is_canceled  lead_time  arrival_date_year  arrival_date_month  \\\n",
       "0            0        342               2015                   7   \n",
       "1            0        737               2015                   7   \n",
       "2            0          7               2015                   7   \n",
       "3            0         13               2015                   7   \n",
       "4            0         14               2015                   7   \n",
       "\n",
       "   arrival_date_week_number  arrival_date_day_of_month  \\\n",
       "0                        27                          1   \n",
       "1                        27                          1   \n",
       "2                        27                          1   \n",
       "3                        27                          1   \n",
       "4                        27                          1   \n",
       "\n",
       "   stays_in_weekend_nights  stays_in_week_nights  adults  children  ...  \\\n",
       "0                        0                     0       2       0.0  ...   \n",
       "1                        0                     0       2       0.0  ...   \n",
       "2                        0                     1       1       0.0  ...   \n",
       "3                        0                     1       1       0.0  ...   \n",
       "4                        0                     2       2       0.0  ...   \n",
       "\n",
       "   assigned_room_type  booking_changes  deposit_type  agent  company  \\\n",
       "0                 2.0                3             0    0.0      0.0   \n",
       "1                 2.0                4             0    0.0      0.0   \n",
       "2                 2.0                0             0    0.0      0.0   \n",
       "3                 0.0                0             0  304.0      0.0   \n",
       "4                 0.0                0             0  240.0      0.0   \n",
       "\n",
       "   days_in_waiting_list  customer_type   adr  required_car_parking_spaces  \\\n",
       "0                     0              2   0.0                            0   \n",
       "1                     0              2   0.0                            0   \n",
       "2                     0              2  75.0                            0   \n",
       "3                     0              2  75.0                            0   \n",
       "4                     0              2  98.0                            0   \n",
       "\n",
       "   total_of_special_requests  \n",
       "0                          0  \n",
       "1                          0  \n",
       "2                          0  \n",
       "3                          0  \n",
       "4                          1  \n",
       "\n",
       "[5 rows x 29 columns]"
      ]
     },
     "execution_count": 17,
     "metadata": {},
     "output_type": "execute_result"
    }
   ],
   "source": [
    "df.head()"
   ]
  },
  {
   "cell_type": "code",
   "execution_count": 18,
   "metadata": {},
   "outputs": [
    {
     "name": "stdout",
     "output_type": "stream",
     "text": [
      "is_canceled                       0\n",
      "lead_time                         0\n",
      "arrival_date_year                 0\n",
      "arrival_date_month                0\n",
      "arrival_date_week_number          0\n",
      "arrival_date_day_of_month         0\n",
      "stays_in_weekend_nights           0\n",
      "stays_in_week_nights              0\n",
      "adults                            0\n",
      "children                          0\n",
      "babies                            0\n",
      "meal                              0\n",
      "country                           0\n",
      "market_segment                    0\n",
      "distribution_channel              0\n",
      "is_repeated_guest                 0\n",
      "previous_cancellations            0\n",
      "previous_bookings_not_canceled    0\n",
      "reserved_room_type                0\n",
      "assigned_room_type                0\n",
      "booking_changes                   0\n",
      "deposit_type                      0\n",
      "agent                             0\n",
      "company                           0\n",
      "days_in_waiting_list              0\n",
      "customer_type                     0\n",
      "adr                               0\n",
      "required_car_parking_spaces       0\n",
      "total_of_special_requests         0\n",
      "dtype: int64\n"
     ]
    }
   ],
   "source": [
    "df = df.fillna(0)\n",
    "nan_values = df.isna().sum()\n",
    "print(nan_values)"
   ]
  },
  {
   "cell_type": "markdown",
   "metadata": {},
   "source": [
    "# Train Model"
   ]
  },
  {
   "cell_type": "markdown",
   "metadata": {},
   "source": [
    "X đầu vào, y là đầu ra"
   ]
  },
  {
   "cell_type": "code",
   "execution_count": 19,
   "metadata": {},
   "outputs": [],
   "source": [
    "# Chọn các đặc trưng và nhãn\n",
    "y = df['is_canceled']\n",
    "X = df.drop(columns=['is_canceled'])"
   ]
  },
  {
   "cell_type": "markdown",
   "metadata": {},
   "source": [
    "chia tập train 80%, test 20%"
   ]
  },
  {
   "cell_type": "code",
   "execution_count": 20,
   "metadata": {},
   "outputs": [],
   "source": [
    "# Chia tập dữ liệu thành tập huấn luyện và tập kiểm tra\n",
    "X_train, X_test, y_train, y_test = train_test_split(X, y, test_size=0.2, random_state=42)"
   ]
  },
  {
   "cell_type": "markdown",
   "metadata": {},
   "source": [
    "import thư viện Logistic Regression"
   ]
  },
  {
   "cell_type": "code",
   "execution_count": 21,
   "metadata": {},
   "outputs": [],
   "source": [
    "import pandas as pd\n",
    "from sklearn.model_selection import train_test_split\n",
    "from sklearn.preprocessing import StandardScaler\n",
    "from sklearn.linear_model import LogisticRegression\n",
    "from sklearn.metrics import classification_report"
   ]
  },
  {
   "cell_type": "markdown",
   "metadata": {},
   "source": [
    "train model Logistic Regression"
   ]
  },
  {
   "cell_type": "code",
   "execution_count": 22,
   "metadata": {},
   "outputs": [
    {
     "name": "stdout",
     "output_type": "stream",
     "text": [
      "Logistic Regression Accuracy: 0.7361169277158891\n"
     ]
    },
    {
     "name": "stderr",
     "output_type": "stream",
     "text": [
      "/Users/quocminh/miniconda3/lib/python3.11/site-packages/sklearn/linear_model/_logistic.py:460: ConvergenceWarning: lbfgs failed to converge (status=1):\n",
      "STOP: TOTAL NO. of ITERATIONS REACHED LIMIT.\n",
      "\n",
      "Increase the number of iterations (max_iter) or scale the data as shown in:\n",
      "    https://scikit-learn.org/stable/modules/preprocessing.html\n",
      "Please also refer to the documentation for alternative solver options:\n",
      "    https://scikit-learn.org/stable/modules/linear_model.html#logistic-regression\n",
      "  n_iter_i = _check_optimize_result(\n"
     ]
    }
   ],
   "source": [
    "from sklearn.metrics import accuracy_score\n",
    "\n",
    "# Khởi tạo và huấn luyện mô hình Logistic Regression\n",
    "model = LogisticRegression()\n",
    "model.fit(X_train, y_train)\n",
    "\n",
    "# Dự đoán trên tập kiểm tra\n",
    "y_pred = model.predict(X_test)\n",
    "\n",
    "# Đánh giá mô hình Logistic Regression trên accuracy\n",
    "accuracy = accuracy_score(y_test, y_pred)\n",
    "print(\"Logistic Regression Accuracy:\", accuracy)"
   ]
  },
  {
   "cell_type": "code",
   "execution_count": 23,
   "metadata": {},
   "outputs": [
    {
     "name": "stdout",
     "output_type": "stream",
     "text": [
      "Decision Tree Accuracy: 0.858614624340397\n"
     ]
    }
   ],
   "source": [
    "from sklearn.tree import DecisionTreeClassifier\n",
    "from sklearn.metrics import accuracy_score\n",
    "\n",
    "# Khởi tạo và huấn luyện mô hình Decision Tree\n",
    "decision_tree_model = DecisionTreeClassifier()\n",
    "decision_tree_model.fit(X_train, y_train)\n",
    "\n",
    "# Dự đoán trên tập kiểm tra\n",
    "y_pred_decision_tree = decision_tree_model.predict(X_test)\n",
    "\n",
    "# Đánh giá mô hình Decision Tree trên accuracy\n",
    "accuracy_decision_tree = accuracy_score(y_test, y_pred_decision_tree)\n",
    "print(\"Decision Tree Accuracy:\", accuracy_decision_tree)"
   ]
  },
  {
   "cell_type": "code",
   "execution_count": 47,
   "metadata": {},
   "outputs": [
    {
     "name": "stdout",
     "output_type": "stream",
     "text": [
      "Random Forest Accuracy: 0.8975207303794288\n"
     ]
    }
   ],
   "source": [
    "from sklearn.ensemble import RandomForestClassifier\n",
    "from sklearn.metrics import accuracy_score\n",
    "\n",
    "# Khởi tạo và huấn luyện mô hình Random Forest\n",
    "random_forest_model = RandomForestClassifier()\n",
    "random_forest_model.fit(X_train, y_train)\n",
    "\n",
    "# Dự đoán trên tập kiểm tra\n",
    "y_pred_random_forest = random_forest_model.predict(X_test)\n",
    "\n",
    "# Đánh giá mô hình Random Forest trên accuracy\n",
    "accuracy_random_forest = accuracy_score(y_test, y_pred_random_forest)\n",
    "print(\"Random Forest Accuracy:\", accuracy_random_forest)\n"
   ]
  },
  {
   "cell_type": "code",
   "execution_count": 25,
   "metadata": {},
   "outputs": [
    {
     "data": {
      "text/plain": [
       "['random_forest_model.pkl']"
      ]
     },
     "execution_count": 25,
     "metadata": {},
     "output_type": "execute_result"
    }
   ],
   "source": [
    "import joblib\n",
    "\n",
    "# Đặt tên cho file model\n",
    "model_filename = 'random_forest_model.pkl'\n",
    "\n",
    "# Lưu model Random Forest\n",
    "joblib.dump(random_forest_model, model_filename)\n"
   ]
  },
  {
   "cell_type": "code",
   "execution_count": 46,
   "metadata": {},
   "outputs": [
    {
     "name": "stdout",
     "output_type": "stream",
     "text": [
      "XGBoost Accuracy: 0.8862132506910126\n"
     ]
    }
   ],
   "source": [
    "import xgboost as xgb\n",
    "from sklearn.metrics import accuracy_score\n",
    "# Khởi tạo mô hình XGBoost\n",
    "xgb_model = xgb.XGBClassifier()\n",
    "\n",
    "# Huấn luyện mô hình\n",
    "xgb_model.fit(X_train, y_train)\n",
    "\n",
    "# Dự đoán trên tập kiểm tra\n",
    "y_pred_xgb = xgb_model.predict(X_test)\n",
    "\n",
    "# Đánh giá mô hình XGBoost trên accuracy\n",
    "accuracy_xgb = accuracy_score(y_test, y_pred_xgb)\n",
    "print(\"XGBoost Accuracy:\", accuracy_xgb)"
   ]
  },
  {
   "cell_type": "code",
   "execution_count": 27,
   "metadata": {},
   "outputs": [
    {
     "data": {
      "text/plain": [
       "['xgb_model.pkl']"
      ]
     },
     "execution_count": 27,
     "metadata": {},
     "output_type": "execute_result"
    }
   ],
   "source": [
    "import joblib\n",
    "\n",
    "# Đặt tên cho file model\n",
    "model_filename = 'xgb_model.pkl'\n",
    "\n",
    "# Lưu model Random Forest\n",
    "joblib.dump(xgb_model, model_filename)\n"
   ]
  },
  {
   "cell_type": "code",
   "execution_count": 28,
   "metadata": {},
   "outputs": [
    {
     "name": "stdout",
     "output_type": "stream",
     "text": [
      "Gradient Boosting Accuracy: 0.8500711952424826\n"
     ]
    }
   ],
   "source": [
    "from sklearn.ensemble import GradientBoostingClassifier\n",
    "from sklearn.metrics import accuracy_score\n",
    "\n",
    "# Khởi tạo và huấn luyện mô hình Gradient Boosting\n",
    "gradient_boosting_model = GradientBoostingClassifier()\n",
    "gradient_boosting_model.fit(X_train, y_train)\n",
    "\n",
    "# Dự đoán trên tập kiểm tra\n",
    "y_pred_gradient_boosting = gradient_boosting_model.predict(X_test)\n",
    "\n",
    "# Đánh giá mô hình Gradient Boosting trên accuracy\n",
    "accuracy_gradient_boosting = accuracy_score(y_test, y_pred_gradient_boosting)\n",
    "print(\"Gradient Boosting Accuracy:\", accuracy_gradient_boosting)\n"
   ]
  },
  {
   "cell_type": "code",
   "execution_count": 29,
   "metadata": {},
   "outputs": [],
   "source": [
    "# from sklearn.svm import SVC\n",
    "# from sklearn.metrics import accuracy_score\n",
    "\n",
    "# # Khởi tạo và huấn luyện mô hình SVM\n",
    "# svm_model = SVC()\n",
    "# svm_model.fit(X_train, y_train)\n",
    "\n",
    "# # Dự đoán trên tập kiểm tra\n",
    "# y_pred_svm = svm_model.predict(X_test)\n",
    "\n",
    "# # Đánh giá mô hình SVM trên accuracy\n",
    "# accuracy_svm = accuracy_score(y_test, y_pred_svm)\n",
    "# print(\"SVM Accuracy:\", accuracy_svm)\n"
   ]
  },
  {
   "cell_type": "code",
   "execution_count": 30,
   "metadata": {},
   "outputs": [
    {
     "name": "stdout",
     "output_type": "stream",
     "text": [
      "KNN Accuracy: 0.8017421894631042\n"
     ]
    }
   ],
   "source": [
    "from sklearn.neighbors import KNeighborsClassifier\n",
    "from sklearn.metrics import accuracy_score\n",
    "\n",
    "# Khởi tạo và huấn luyện mô hình KNN\n",
    "knn_model = KNeighborsClassifier()\n",
    "knn_model.fit(X_train, y_train)\n",
    "\n",
    "# Dự đoán trên tập kiểm tra\n",
    "y_pred_knn = knn_model.predict(X_test)\n",
    "\n",
    "# Đánh giá mô hình KNN trên accuracy\n",
    "accuracy_knn = accuracy_score(y_test, y_pred_knn)\n",
    "print(\"KNN Accuracy:\", accuracy_knn)\n"
   ]
  },
  {
   "cell_type": "code",
   "execution_count": 31,
   "metadata": {},
   "outputs": [
    {
     "name": "stdout",
     "output_type": "stream",
     "text": [
      "Naive Bayes Accuracy: 0.556034843789262\n"
     ]
    }
   ],
   "source": [
    "from sklearn.naive_bayes import GaussianNB\n",
    "from sklearn.metrics import accuracy_score\n",
    "\n",
    "# Khởi tạo và huấn luyện mô hình Naive Bayes\n",
    "naive_bayes_model = GaussianNB()\n",
    "naive_bayes_model.fit(X_train, y_train)\n",
    "\n",
    "# Dự đoán trên tập kiểm tra\n",
    "y_pred_naive_bayes = naive_bayes_model.predict(X_test)\n",
    "\n",
    "# Đánh giá mô hình Naive Bayes trên accuracy\n",
    "accuracy_naive_bayes = accuracy_score(y_test, y_pred_naive_bayes)\n",
    "print(\"Naive Bayes Accuracy:\", accuracy_naive_bayes)\n"
   ]
  },
  {
   "cell_type": "markdown",
   "metadata": {},
   "source": [
    "# Khu vực xử lý dữ liệu test"
   ]
  },
  {
   "cell_type": "code",
   "execution_count": 32,
   "metadata": {},
   "outputs": [],
   "source": [
    "# nhập data test tại đây\n",
    "lead_time = 60\n",
    "arrival_date_year = 2015\n",
    "arrival_date_month = 'July'\n",
    "arrival_date_week_number = 29\n",
    "arrival_date_day_of_month = 13\n",
    "stays_in_weekend_nights = 1\n",
    "stays_in_week_nights = 4\n",
    "adults = 2\n",
    "children = 0\n",
    "babies = 0\n",
    "meal = 'BB'\n",
    "country = 'PRT'\n",
    "market_segment = 'Offline TA/TO'\n",
    "distribution_channel = 'TA/TO'\n",
    "is_repeated_guest = 0\n",
    "previous_cancellations = 0\n",
    "previous_bookings_not_canceled = 0\n",
    "reserved_room_type = 'D'\n",
    "assigned_room_type = 'D'\n",
    "booking_changes = 0\n",
    "deposit_type = 'No Deposit'\n",
    "agent = 15\n",
    "company = 0\n",
    "days_in_waiting_list = 0\n",
    "customer_type = 'Transient'\n",
    "adr = 79.5\n",
    "required_car_parking_spaces = 0\n",
    "total_of_special_requests = 0"
   ]
  },
  {
   "cell_type": "code",
   "execution_count": 33,
   "metadata": {},
   "outputs": [],
   "source": [
    "# xử lý data\n",
    "arrival_date_month = convert_arrival_date_month(arrival_date_month)\n",
    "meal = convert_meal(meal)\n",
    "country = country_map.get(country)\n",
    "market_segment = market_segment_map.get(market_segment)\n",
    "distribution_channel = distribution_channel_map.get(distribution_channel)\n",
    "reserved_room_type = reserved_room_type_map.get(reserved_room_type)\n",
    "assigned_room_type = assigned_room_type_map.get(assigned_room_type)\n",
    "deposit_type = convert_deposit_type(deposit_type)\n",
    "customer_type = convert_customer_type(customer_type)"
   ]
  },
  {
   "cell_type": "code",
   "execution_count": 34,
   "metadata": {},
   "outputs": [],
   "source": [
    "# Thêm dữ liệu vào ma trận\n",
    "data = [[lead_time, arrival_date_year, arrival_date_month, arrival_date_week_number,\n",
    "        arrival_date_day_of_month, stays_in_weekend_nights, stays_in_week_nights,\n",
    "        adults, children, babies, meal, country, market_segment, distribution_channel,\n",
    "        is_repeated_guest, previous_cancellations, previous_bookings_not_canceled,\n",
    "        reserved_room_type, assigned_room_type, booking_changes, deposit_type,\n",
    "        agent, company, days_in_waiting_list, customer_type, adr,\n",
    "        required_car_parking_spaces, total_of_special_requests]]"
   ]
  },
  {
   "cell_type": "markdown",
   "metadata": {},
   "source": [
    "# load mode để test"
   ]
  },
  {
   "cell_type": "markdown",
   "metadata": {},
   "source": [
    "Test bằng model Random Forest"
   ]
  },
  {
   "cell_type": "code",
   "execution_count": 48,
   "metadata": {},
   "outputs": [
    {
     "name": "stdout",
     "output_type": "stream",
     "text": [
      "1\n",
      "cancel\n"
     ]
    },
    {
     "name": "stderr",
     "output_type": "stream",
     "text": [
      "/Users/quocminh/miniconda3/lib/python3.11/site-packages/sklearn/base.py:465: UserWarning: X does not have valid feature names, but RandomForestClassifier was fitted with feature names\n",
      "  warnings.warn(\n"
     ]
    }
   ],
   "source": [
    "# hàm dự đoán\n",
    "y_pred_random_forest = random_forest_model.predict(data)\n",
    "print(y_pred_random_forest[0])\n",
    "if y_pred_random_forest > 0.5:\n",
    "    print('cancel')\n",
    "else:\n",
    "    print('not cancel')"
   ]
  },
  {
   "cell_type": "markdown",
   "metadata": {},
   "source": [
    "Test bằng model Random Forest"
   ]
  }
 ],
 "metadata": {
  "kernelspec": {
   "display_name": "Python 3 (ipykernel)",
   "language": "python",
   "name": "python3"
  },
  "language_info": {
   "codemirror_mode": {
    "name": "ipython",
    "version": 3
   },
   "file_extension": ".py",
   "mimetype": "text/x-python",
   "name": "python",
   "nbconvert_exporter": "python",
   "pygments_lexer": "ipython3",
   "version": "3.12.4"
  }
 },
 "nbformat": 4,
 "nbformat_minor": 4
}
